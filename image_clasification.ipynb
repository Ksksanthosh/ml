{
  "nbformat": 4,
  "nbformat_minor": 0,
  "metadata": {
    "kernelspec": {
      "display_name": "Python 3",
      "language": "python",
      "name": "python3"
    },
    "language_info": {
      "codemirror_mode": {
        "name": "ipython",
        "version": 3
      },
      "file_extension": ".py",
      "mimetype": "text/x-python",
      "name": "python",
      "nbconvert_exporter": "python",
      "pygments_lexer": "ipython3",
      "version": "3.8.3"
    },
    "colab": {
      "name": "image_clasification.ipynb",
      "provenance": [],
      "collapsed_sections": []
    }
  },
  "cells": [
    {
      "cell_type": "code",
      "metadata": {
        "id": "xKTL05T9_c6u",
        "outputId": "226af286-1a1f-4e59-80da-995af30bb41f",
        "colab": {
          "base_uri": "https://localhost:8080/"
        }
      },
      "source": [
        "from google.colab import drive\n",
        "drive.mount('/content/drive')\n",
        "#importing this to use files in drive"
      ],
      "execution_count": null,
      "outputs": [
        {
          "output_type": "stream",
          "text": [
            "Drive already mounted at /content/drive; to attempt to forcibly remount, call drive.mount(\"/content/drive\", force_remount=True).\n"
          ],
          "name": "stdout"
        }
      ]
    },
    {
      "cell_type": "code",
      "metadata": {
        "id": "Vb-BlNXG6OxC"
      },
      "source": [
        "#required packages\n",
        "import numpy as np\n",
        "import cv2 \n",
        "import os\n",
        "import random\n",
        "import matplotlib.pyplot as plt\n",
        "import pickle"
      ],
      "execution_count": null,
      "outputs": []
    },
    {
      "cell_type": "code",
      "metadata": {
        "id": "0ROOFGkg6OxW"
      },
      "source": [
        "#declaring mu path and the categories\n",
        "DIRECTORY= r'/content/drive/My Drive/Colab Notebooks/IMAGE_CLASSIFICATION/train' #mention the directory where your training files are\n",
        "CATEGORIES =['cat', 'dog']"
      ],
      "execution_count": null,
      "outputs": []
    },
    {
      "cell_type": "code",
      "metadata": {
        "id": "WiJ4kk7d6Oxn"
      },
      "source": [
        "IMG_SIZE=120 #sixe of the image\n",
        "\n",
        "data=[]\n",
        "\n",
        "#loop categorize the images\n",
        "\n",
        "for category in CATEGORIES:\n",
        "        folder=os.path.join(DIRECTORY,category)\n",
        "        label = CATEGORIES.index(category)\n",
        "        for img in os.listdir(folder):\n",
        "            img_path= os.path.join(folder,img)\n",
        "            img_arr= cv2.imread(img_path)\n",
        "            img_arr=cv2.resize(img_arr, (IMG_SIZE,IMG_SIZE))\n",
        "            data.append([img_arr,label])"
      ],
      "execution_count": null,
      "outputs": []
    },
    {
      "cell_type": "code",
      "metadata": {
        "id": "W440qJ-d6Oxy"
      },
      "source": [
        "random.shuffle(data) #the data will be organised "
      ],
      "execution_count": null,
      "outputs": []
    },
    {
      "cell_type": "code",
      "metadata": {
        "id": "XhQTO4vM6Ox7"
      },
      "source": [
        "#separating the data into x and y\n",
        "x=[]\n",
        "y=[]\n",
        "\n",
        "\n",
        "for features, labels in data:\n",
        "        x.append(features)\n",
        "        y.append(labels)"
      ],
      "execution_count": null,
      "outputs": []
    },
    {
      "cell_type": "code",
      "metadata": {
        "id": "gGpiILCd6OyH"
      },
      "source": [
        "#converting it into the array\n",
        "x= np.array(x)\n",
        "y= np.array(y)"
      ],
      "execution_count": null,
      "outputs": []
    },
    {
      "cell_type": "code",
      "metadata": {
        "id": "aRs9M-am6OyS"
      },
      "source": [
        "pickle.dump(x, open('x.pkl','wb'))\n",
        "pickle.dump(y, open('y.pkl','wb'))"
      ],
      "execution_count": null,
      "outputs": []
    },
    {
      "cell_type": "code",
      "metadata": {
        "id": "LFYJFkO56Oyb"
      },
      "source": [
        "#x contains the values of pixels from 0 to 255, for easy calucation dividing it by 255 so the values will be 0 to 1\n",
        "x=x/255"
      ],
      "execution_count": null,
      "outputs": []
    },
    {
      "cell_type": "code",
      "metadata": {
        "id": "AF42bvY0A1J6",
        "outputId": "fa267ae7-a269-4d9b-f0b0-303c4b63f07f",
        "colab": {
          "base_uri": "https://localhost:8080/"
        }
      },
      "source": [
        "x.shape"
      ],
      "execution_count": null,
      "outputs": [
        {
          "output_type": "execute_result",
          "data": {
            "text/plain": [
              "(926, 120, 120, 3)"
            ]
          },
          "metadata": {
            "tags": []
          },
          "execution_count": 35
        }
      ]
    },
    {
      "cell_type": "code",
      "metadata": {
        "id": "S-debPUrA3ZS"
      },
      "source": [
        "#importing required libraries for building our model\n",
        "from keras.models import Sequential\n",
        "from keras.layers import Conv2D , MaxPooling2D , Flatten , Dense"
      ],
      "execution_count": null,
      "outputs": []
    },
    {
      "cell_type": "code",
      "metadata": {
        "id": "XNENjzgtEnjc"
      },
      "source": [
        "#building the model\n",
        "model = Sequential()\n",
        "\n",
        "model.add(Conv2D(64,(3,3),activation='relu'))\n",
        "model.add(MaxPooling2D((2,2)))\n",
        "\n",
        "model.add(Conv2D(64,(3,3),activation='relu'))\n",
        "model.add(MaxPooling2D((2,2)))\n",
        "\n",
        "model.add(Flatten())\n",
        "\n",
        "model.add(Dense(128,input_shape=x.shape[1:], activation='relu'))\n",
        "\n",
        "model.add(Dense(2, activation='softmax'))"
      ],
      "execution_count": null,
      "outputs": []
    },
    {
      "cell_type": "code",
      "metadata": {
        "id": "hIxjkMLEFoPq"
      },
      "source": [
        "model.compile(optimizer='adam', loss='sparse_categorical_crossentropy', metrics=['accuracy'])"
      ],
      "execution_count": null,
      "outputs": []
    },
    {
      "cell_type": "code",
      "metadata": {
        "id": "8XiBf9YZGFUK",
        "outputId": "c772a94f-e25f-43e9-8034-7922f5b9fa78",
        "colab": {
          "base_uri": "https://localhost:8080/"
        }
      },
      "source": [
        "results=model.fit(x,y, epochs=5, validation_split=0.1)"
      ],
      "execution_count": null,
      "outputs": [
        {
          "output_type": "stream",
          "text": [
            "Epoch 1/5\n",
            "27/27 [==============================] - 22s 800ms/step - loss: 0.2452 - accuracy: 0.8980 - val_loss: 0.9557 - val_accuracy: 0.6022\n",
            "Epoch 2/5\n",
            "27/27 [==============================] - 22s 796ms/step - loss: 0.3172 - accuracy: 0.8679 - val_loss: 0.8038 - val_accuracy: 0.6237\n",
            "Epoch 3/5\n",
            "27/27 [==============================] - 21s 795ms/step - loss: 0.1798 - accuracy: 0.9292 - val_loss: 1.1627 - val_accuracy: 0.6129\n",
            "Epoch 4/5\n",
            "27/27 [==============================] - 21s 796ms/step - loss: 0.1088 - accuracy: 0.9700 - val_loss: 1.3606 - val_accuracy: 0.6237\n",
            "Epoch 5/5\n",
            "27/27 [==============================] - 22s 800ms/step - loss: 0.0568 - accuracy: 0.9880 - val_loss: 1.3868 - val_accuracy: 0.6129\n"
          ],
          "name": "stdout"
        }
      ]
    },
    {
      "cell_type": "code",
      "metadata": {
        "id": "_rr6kMrzGVU6"
      },
      "source": [
        "model.save('cat.h5')"
      ],
      "execution_count": null,
      "outputs": []
    },
    {
      "cell_type": "code",
      "metadata": {
        "id": "3Njfken4QxG-",
        "outputId": "4c67ae9c-dacb-4575-a87b-537174d24b6f",
        "colab": {
          "base_uri": "https://localhost:8080/",
          "height": 284
        }
      },
      "source": [
        "#ploting the accurary\n",
        "plt.plot(results.history['accuracy'])"
      ],
      "execution_count": null,
      "outputs": [
        {
          "output_type": "execute_result",
          "data": {
            "text/plain": [
              "[<matplotlib.lines.Line2D at 0x7f2fd5380b70>]"
            ]
          },
          "metadata": {
            "tags": []
          },
          "execution_count": 44
        },
        {
          "output_type": "display_data",
          "data": {
            "image/png": "[encoded data removed]",
            "text/plain": [
              "<Figure size 432x288 with 1 Axes>"
            ]
          },
          "metadata": {
            "tags": [],
            "needs_background": "light"
          }
        }
      ]
    },
    {
      "cell_type": "code",
      "metadata": {
        "id": "t-QbvnSxTpIY"
      },
      "source": [
        ""
      ],
      "execution_count": null,
      "outputs": []
    }
  ]
}